{
 "cells": [
  {
   "cell_type": "markdown",
   "id": "aa26631c",
   "metadata": {},
   "source": [
    "# COGS 118A Group 035 Wi23 - Logistic Regression with sk-learn\n",
    "### Group Memebers:\n",
    "<ul >\n",
    "  <li style=\"padding-left: 20px;\"> Jamie Wei (A15921963) </li>\n",
    "  <li style=\"padding-left: 20px;\"> Nicole Rangan (A15011222) </li>\n",
    "  <li style=\"padding-left: 20px;\"> Sarita Raghunath (A16425750) </li>\n",
    "  <li style=\"padding-left: 20px;\"> Zehong Li (A15852954) </li>\n",
    "</ul>"
   ]
  },
  {
   "cell_type": "code",
   "execution_count": 9,
   "id": "0e00e06b",
   "metadata": {},
   "outputs": [],
   "source": [
    "#necessary libraries\n",
    "import numpy as np\n",
    "import pandas as pd\n",
    "import matplotlib.pyplot as plt\n",
    "import seaborn as sns\n",
    "\n",
    "from sklearn.linear_model import LogisticRegression\n",
    "from sklearn.model_selection import GridSearchCV , train_test_split\n",
    "from sklearn.metrics import confusion_matrix\n",
    "from sklearn.metrics import accuracy_score, classification_report\n",
    "from sklearn.metrics import ConfusionMatrixDisplay\n",
    "from sklearn.metrics import roc_curve, auc, RocCurveDisplay\n",
    "from sklearn.metrics import PrecisionRecallDisplay\n",
    "from sklearn.preprocessing import LabelEncoder\n",
    "from sklearn.metrics import confusion_matrix, roc_auc_score, precision_recall_curve"
   ]
  },
  {
   "cell_type": "code",
   "execution_count": 10,
   "id": "58e3390a",
   "metadata": {},
   "outputs": [],
   "source": [
    "#assert library import\n",
    "assert np\n",
    "assert pd\n",
    "assert plt\n",
    "assert sns\n",
    "assert LogisticRegression\n",
    "assert GridSearchCV\n",
    "assert train_test_split\n",
    "assert confusion_matrix\n",
    "assert accuracy_score\n",
    "assert classification_report\n",
    "assert ConfusionMatrixDisplay\n",
    "assert roc_curve\n",
    "assert auc\n",
    "assert RocCurveDisplay\n",
    "assert PrecisionRecallDisplay\n",
    "assert LabelEncoder"
   ]
  },
  {
   "cell_type": "code",
   "execution_count": 11,
   "id": "b96084ec",
   "metadata": {},
   "outputs": [
    {
     "data": {
      "text/html": [
       "<div>\n",
       "<style scoped>\n",
       "    .dataframe tbody tr th:only-of-type {\n",
       "        vertical-align: middle;\n",
       "    }\n",
       "\n",
       "    .dataframe tbody tr th {\n",
       "        vertical-align: top;\n",
       "    }\n",
       "\n",
       "    .dataframe thead th {\n",
       "        text-align: right;\n",
       "    }\n",
       "</style>\n",
       "<table border=\"1\" class=\"dataframe\">\n",
       "  <thead>\n",
       "    <tr style=\"text-align: right;\">\n",
       "      <th></th>\n",
       "      <th>match_id</th>\n",
       "      <th>radiant_win</th>\n",
       "      <th>duration</th>\n",
       "      <th>avg_mmr</th>\n",
       "      <th>team1_hero1</th>\n",
       "      <th>team1_hero2</th>\n",
       "      <th>team1_hero3</th>\n",
       "      <th>team1_hero4</th>\n",
       "      <th>team1_hero5</th>\n",
       "      <th>team1_hero6</th>\n",
       "      <th>...</th>\n",
       "      <th>team2_hero119</th>\n",
       "      <th>team2_hero120</th>\n",
       "      <th>team2_hero121</th>\n",
       "      <th>team2_hero123</th>\n",
       "      <th>team2_hero126</th>\n",
       "      <th>team2_hero128</th>\n",
       "      <th>team2_hero129</th>\n",
       "      <th>team2_hero135</th>\n",
       "      <th>team2_hero136</th>\n",
       "      <th>team2_hero137</th>\n",
       "    </tr>\n",
       "  </thead>\n",
       "  <tbody>\n",
       "    <tr>\n",
       "      <th>0</th>\n",
       "      <td>7045889918</td>\n",
       "      <td>0</td>\n",
       "      <td>2199</td>\n",
       "      <td>2607.0</td>\n",
       "      <td>0</td>\n",
       "      <td>0</td>\n",
       "      <td>0</td>\n",
       "      <td>0</td>\n",
       "      <td>0</td>\n",
       "      <td>0</td>\n",
       "      <td>...</td>\n",
       "      <td>0</td>\n",
       "      <td>0</td>\n",
       "      <td>0</td>\n",
       "      <td>0</td>\n",
       "      <td>0</td>\n",
       "      <td>0</td>\n",
       "      <td>0</td>\n",
       "      <td>0</td>\n",
       "      <td>0</td>\n",
       "      <td>0</td>\n",
       "    </tr>\n",
       "    <tr>\n",
       "      <th>1</th>\n",
       "      <td>7045889915</td>\n",
       "      <td>1</td>\n",
       "      <td>2301</td>\n",
       "      <td>2931.0</td>\n",
       "      <td>0</td>\n",
       "      <td>0</td>\n",
       "      <td>0</td>\n",
       "      <td>0</td>\n",
       "      <td>0</td>\n",
       "      <td>0</td>\n",
       "      <td>...</td>\n",
       "      <td>0</td>\n",
       "      <td>0</td>\n",
       "      <td>0</td>\n",
       "      <td>0</td>\n",
       "      <td>0</td>\n",
       "      <td>0</td>\n",
       "      <td>0</td>\n",
       "      <td>0</td>\n",
       "      <td>0</td>\n",
       "      <td>0</td>\n",
       "    </tr>\n",
       "    <tr>\n",
       "      <th>2</th>\n",
       "      <td>7045889913</td>\n",
       "      <td>1</td>\n",
       "      <td>2093</td>\n",
       "      <td>1942.0</td>\n",
       "      <td>0</td>\n",
       "      <td>0</td>\n",
       "      <td>0</td>\n",
       "      <td>0</td>\n",
       "      <td>0</td>\n",
       "      <td>0</td>\n",
       "      <td>...</td>\n",
       "      <td>0</td>\n",
       "      <td>0</td>\n",
       "      <td>0</td>\n",
       "      <td>0</td>\n",
       "      <td>0</td>\n",
       "      <td>0</td>\n",
       "      <td>0</td>\n",
       "      <td>0</td>\n",
       "      <td>0</td>\n",
       "      <td>0</td>\n",
       "    </tr>\n",
       "    <tr>\n",
       "      <th>3</th>\n",
       "      <td>7045889912</td>\n",
       "      <td>0</td>\n",
       "      <td>2856</td>\n",
       "      <td>4332.0</td>\n",
       "      <td>0</td>\n",
       "      <td>0</td>\n",
       "      <td>0</td>\n",
       "      <td>0</td>\n",
       "      <td>0</td>\n",
       "      <td>0</td>\n",
       "      <td>...</td>\n",
       "      <td>0</td>\n",
       "      <td>0</td>\n",
       "      <td>1</td>\n",
       "      <td>0</td>\n",
       "      <td>0</td>\n",
       "      <td>0</td>\n",
       "      <td>0</td>\n",
       "      <td>0</td>\n",
       "      <td>0</td>\n",
       "      <td>0</td>\n",
       "    </tr>\n",
       "    <tr>\n",
       "      <th>4</th>\n",
       "      <td>7045889911</td>\n",
       "      <td>0</td>\n",
       "      <td>3539</td>\n",
       "      <td>3942.0</td>\n",
       "      <td>0</td>\n",
       "      <td>0</td>\n",
       "      <td>0</td>\n",
       "      <td>0</td>\n",
       "      <td>0</td>\n",
       "      <td>0</td>\n",
       "      <td>...</td>\n",
       "      <td>0</td>\n",
       "      <td>0</td>\n",
       "      <td>0</td>\n",
       "      <td>0</td>\n",
       "      <td>0</td>\n",
       "      <td>0</td>\n",
       "      <td>0</td>\n",
       "      <td>0</td>\n",
       "      <td>0</td>\n",
       "      <td>0</td>\n",
       "    </tr>\n",
       "    <tr>\n",
       "      <th>...</th>\n",
       "      <td>...</td>\n",
       "      <td>...</td>\n",
       "      <td>...</td>\n",
       "      <td>...</td>\n",
       "      <td>...</td>\n",
       "      <td>...</td>\n",
       "      <td>...</td>\n",
       "      <td>...</td>\n",
       "      <td>...</td>\n",
       "      <td>...</td>\n",
       "      <td>...</td>\n",
       "      <td>...</td>\n",
       "      <td>...</td>\n",
       "      <td>...</td>\n",
       "      <td>...</td>\n",
       "      <td>...</td>\n",
       "      <td>...</td>\n",
       "      <td>...</td>\n",
       "      <td>...</td>\n",
       "      <td>...</td>\n",
       "      <td>...</td>\n",
       "    </tr>\n",
       "    <tr>\n",
       "      <th>91583</th>\n",
       "      <td>6744845900</td>\n",
       "      <td>0</td>\n",
       "      <td>3297</td>\n",
       "      <td>2763.0</td>\n",
       "      <td>0</td>\n",
       "      <td>0</td>\n",
       "      <td>0</td>\n",
       "      <td>0</td>\n",
       "      <td>0</td>\n",
       "      <td>0</td>\n",
       "      <td>...</td>\n",
       "      <td>0</td>\n",
       "      <td>0</td>\n",
       "      <td>0</td>\n",
       "      <td>0</td>\n",
       "      <td>0</td>\n",
       "      <td>0</td>\n",
       "      <td>0</td>\n",
       "      <td>0</td>\n",
       "      <td>0</td>\n",
       "      <td>0</td>\n",
       "    </tr>\n",
       "    <tr>\n",
       "      <th>91584</th>\n",
       "      <td>6744846112</td>\n",
       "      <td>1</td>\n",
       "      <td>1915</td>\n",
       "      <td>2882.0</td>\n",
       "      <td>0</td>\n",
       "      <td>0</td>\n",
       "      <td>0</td>\n",
       "      <td>0</td>\n",
       "      <td>0</td>\n",
       "      <td>0</td>\n",
       "      <td>...</td>\n",
       "      <td>0</td>\n",
       "      <td>0</td>\n",
       "      <td>0</td>\n",
       "      <td>0</td>\n",
       "      <td>0</td>\n",
       "      <td>0</td>\n",
       "      <td>0</td>\n",
       "      <td>0</td>\n",
       "      <td>0</td>\n",
       "      <td>0</td>\n",
       "    </tr>\n",
       "    <tr>\n",
       "      <th>91585</th>\n",
       "      <td>6744847011</td>\n",
       "      <td>0</td>\n",
       "      <td>2101</td>\n",
       "      <td>2159.0</td>\n",
       "      <td>0</td>\n",
       "      <td>0</td>\n",
       "      <td>1</td>\n",
       "      <td>0</td>\n",
       "      <td>0</td>\n",
       "      <td>1</td>\n",
       "      <td>...</td>\n",
       "      <td>0</td>\n",
       "      <td>0</td>\n",
       "      <td>0</td>\n",
       "      <td>0</td>\n",
       "      <td>0</td>\n",
       "      <td>0</td>\n",
       "      <td>0</td>\n",
       "      <td>0</td>\n",
       "      <td>0</td>\n",
       "      <td>0</td>\n",
       "    </tr>\n",
       "    <tr>\n",
       "      <th>91586</th>\n",
       "      <td>6744847112</td>\n",
       "      <td>1</td>\n",
       "      <td>2494</td>\n",
       "      <td>2107.0</td>\n",
       "      <td>0</td>\n",
       "      <td>0</td>\n",
       "      <td>0</td>\n",
       "      <td>0</td>\n",
       "      <td>0</td>\n",
       "      <td>0</td>\n",
       "      <td>...</td>\n",
       "      <td>0</td>\n",
       "      <td>0</td>\n",
       "      <td>0</td>\n",
       "      <td>0</td>\n",
       "      <td>0</td>\n",
       "      <td>0</td>\n",
       "      <td>0</td>\n",
       "      <td>0</td>\n",
       "      <td>0</td>\n",
       "      <td>0</td>\n",
       "    </tr>\n",
       "    <tr>\n",
       "      <th>91587</th>\n",
       "      <td>6744846004</td>\n",
       "      <td>0</td>\n",
       "      <td>4131</td>\n",
       "      <td>1793.0</td>\n",
       "      <td>0</td>\n",
       "      <td>0</td>\n",
       "      <td>0</td>\n",
       "      <td>0</td>\n",
       "      <td>0</td>\n",
       "      <td>1</td>\n",
       "      <td>...</td>\n",
       "      <td>0</td>\n",
       "      <td>0</td>\n",
       "      <td>0</td>\n",
       "      <td>0</td>\n",
       "      <td>0</td>\n",
       "      <td>0</td>\n",
       "      <td>0</td>\n",
       "      <td>0</td>\n",
       "      <td>0</td>\n",
       "      <td>0</td>\n",
       "    </tr>\n",
       "  </tbody>\n",
       "</table>\n",
       "<p>91588 rows × 250 columns</p>\n",
       "</div>"
      ],
      "text/plain": [
       "         match_id  radiant_win  duration  avg_mmr  team1_hero1  team1_hero2  \\\n",
       "0      7045889918            0      2199   2607.0            0            0   \n",
       "1      7045889915            1      2301   2931.0            0            0   \n",
       "2      7045889913            1      2093   1942.0            0            0   \n",
       "3      7045889912            0      2856   4332.0            0            0   \n",
       "4      7045889911            0      3539   3942.0            0            0   \n",
       "...           ...          ...       ...      ...          ...          ...   \n",
       "91583  6744845900            0      3297   2763.0            0            0   \n",
       "91584  6744846112            1      1915   2882.0            0            0   \n",
       "91585  6744847011            0      2101   2159.0            0            0   \n",
       "91586  6744847112            1      2494   2107.0            0            0   \n",
       "91587  6744846004            0      4131   1793.0            0            0   \n",
       "\n",
       "       team1_hero3  team1_hero4  team1_hero5  team1_hero6  ...  team2_hero119  \\\n",
       "0                0            0            0            0  ...              0   \n",
       "1                0            0            0            0  ...              0   \n",
       "2                0            0            0            0  ...              0   \n",
       "3                0            0            0            0  ...              0   \n",
       "4                0            0            0            0  ...              0   \n",
       "...            ...          ...          ...          ...  ...            ...   \n",
       "91583            0            0            0            0  ...              0   \n",
       "91584            0            0            0            0  ...              0   \n",
       "91585            1            0            0            1  ...              0   \n",
       "91586            0            0            0            0  ...              0   \n",
       "91587            0            0            0            1  ...              0   \n",
       "\n",
       "       team2_hero120  team2_hero121  team2_hero123  team2_hero126  \\\n",
       "0                  0              0              0              0   \n",
       "1                  0              0              0              0   \n",
       "2                  0              0              0              0   \n",
       "3                  0              1              0              0   \n",
       "4                  0              0              0              0   \n",
       "...              ...            ...            ...            ...   \n",
       "91583              0              0              0              0   \n",
       "91584              0              0              0              0   \n",
       "91585              0              0              0              0   \n",
       "91586              0              0              0              0   \n",
       "91587              0              0              0              0   \n",
       "\n",
       "       team2_hero128  team2_hero129  team2_hero135  team2_hero136  \\\n",
       "0                  0              0              0              0   \n",
       "1                  0              0              0              0   \n",
       "2                  0              0              0              0   \n",
       "3                  0              0              0              0   \n",
       "4                  0              0              0              0   \n",
       "...              ...            ...            ...            ...   \n",
       "91583              0              0              0              0   \n",
       "91584              0              0              0              0   \n",
       "91585              0              0              0              0   \n",
       "91586              0              0              0              0   \n",
       "91587              0              0              0              0   \n",
       "\n",
       "       team2_hero137  \n",
       "0                  0  \n",
       "1                  0  \n",
       "2                  0  \n",
       "3                  0  \n",
       "4                  0  \n",
       "...              ...  \n",
       "91583              0  \n",
       "91584              0  \n",
       "91585              0  \n",
       "91586              0  \n",
       "91587              0  \n",
       "\n",
       "[91588 rows x 250 columns]"
      ]
     },
     "execution_count": 11,
     "metadata": {},
     "output_type": "execute_result"
    }
   ],
   "source": [
    "# read csv\n",
    "df = pd.read_csv('cleaned_data_final.csv')\n",
    "\n",
    "# turn labels to 0 and 1s\n",
    "df['radiant_win'] = df['radiant_win'].replace({True: 1, False: 0})\n",
    "\n",
    "# a peek at our dataset\n",
    "df"
   ]
  },
  {
   "cell_type": "code",
   "execution_count": 12,
   "id": "7116dd36",
   "metadata": {},
   "outputs": [],
   "source": [
    "# train-test split\n",
    "X_train, X_test, y_train, y_test = train_test_split(df.iloc[:, 4:], df[['radiant_win']], test_size=0.2, random_state=42)"
   ]
  },
  {
   "cell_type": "code",
   "execution_count": 34,
   "id": "2af61867",
   "metadata": {},
   "outputs": [],
   "source": [
    "# Define hyperparameter tuning dictionary\n",
    "params = [\n",
    "    {\n",
    "        'solver': ['lbfgs', 'sag', 'newton-cg'],\n",
    "        'penalty': ['none', 'l2'],\n",
    "        'C': [0.001, 0.01, 0.1, 1, 10, 100]\n",
    "    },\n",
    "    {\n",
    "        'solver': ['liblinear'],\n",
    "        'penalty': ['l1', 'l2'],\n",
    "        'C': [0.001, 0.01, 0.1, 1, 10, 100]\n",
    "    },\n",
    "    {\n",
    "        'solver': ['saga'],\n",
    "        'penalty': ['none', 'l1', 'l2', 'elasticnet'],\n",
    "        'C': [0.001, 0.01, 0.1, 1, 10, 100],\n",
    "        'l1_ratio': [0.25, 0.5, 0.75]\n",
    "    }\n",
    "]"
   ]
  },
  {
   "cell_type": "code",
   "execution_count": 35,
   "id": "1a6f028b",
   "metadata": {
    "scrolled": true
   },
   "outputs": [
    {
     "name": "stdout",
     "output_type": "stream",
     "text": [
      "Fitting 3 folds for each of 120 candidates, totalling 360 fits\n"
     ]
    }
   ],
   "source": [
    "# Create logistic regression model\n",
    "# update from Nicole's work: added random_state such that it is reproducible\n",
    "model = LogisticRegression(random_state = 42)\n",
    "\n",
    "# Perform random search for hyperparameters\n",
    "search = GridSearchCV (model, param_grid=params, cv=3, n_jobs=-1, verbose = 3)\n",
    "search_result = search.fit(X_train, y_train.values.ravel())"
   ]
  },
  {
   "cell_type": "code",
   "execution_count": 36,
   "id": "f44205a1",
   "metadata": {},
   "outputs": [
    {
     "name": "stdout",
     "output_type": "stream",
     "text": [
      "{'C': 10, 'l1_ratio': 0.5, 'penalty': 'elasticnet', 'solver': 'saga'}\n"
     ]
    }
   ],
   "source": [
    "# Get best hyperparameters from search\n",
    "best_params = search_result.best_params_\n",
    "print(best_params)"
   ]
  },
  {
   "cell_type": "code",
   "execution_count": 38,
   "id": "dc74c804",
   "metadata": {},
   "outputs": [
    {
     "name": "stderr",
     "output_type": "stream",
     "text": [
      "[Parallel(n_jobs=1)]: Using backend SequentialBackend with 1 concurrent workers.\n"
     ]
    },
    {
     "name": "stdout",
     "output_type": "stream",
     "text": [
      "convergence after 65 epochs took 18 seconds\n"
     ]
    },
    {
     "name": "stderr",
     "output_type": "stream",
     "text": [
      "[Parallel(n_jobs=1)]: Done   1 out of   1 | elapsed:   17.1s remaining:    0.0s\n",
      "[Parallel(n_jobs=1)]: Done   1 out of   1 | elapsed:   17.1s finished\n"
     ]
    }
   ],
   "source": [
    "# Train logistic regression model with best hyperparameters\n",
    "model = LogisticRegression(**best_params, verbose = 3)\n",
    "history = model.fit(X_train, y_train.values.ravel())\n"
   ]
  },
  {
   "cell_type": "code",
   "execution_count": 39,
   "id": "189e1e17",
   "metadata": {},
   "outputs": [
    {
     "name": "stderr",
     "output_type": "stream",
     "text": [
      "[Parallel(n_jobs=1)]: Using backend SequentialBackend with 1 concurrent workers.\n"
     ]
    },
    {
     "name": "stdout",
     "output_type": "stream",
     "text": [
      "convergence after 68 epochs took 14 seconds\n"
     ]
    },
    {
     "name": "stderr",
     "output_type": "stream",
     "text": [
      "[Parallel(n_jobs=1)]: Done   1 out of   1 | elapsed:   13.5s remaining:    0.0s\n",
      "[Parallel(n_jobs=1)]: Done   1 out of   1 | elapsed:   13.5s finished\n",
      "[Parallel(n_jobs=1)]: Using backend SequentialBackend with 1 concurrent workers.\n"
     ]
    },
    {
     "name": "stdout",
     "output_type": "stream",
     "text": [
      "convergence after 56 epochs took 11 seconds\n"
     ]
    },
    {
     "name": "stderr",
     "output_type": "stream",
     "text": [
      "[Parallel(n_jobs=1)]: Done   1 out of   1 | elapsed:   11.1s remaining:    0.0s\n",
      "[Parallel(n_jobs=1)]: Done   1 out of   1 | elapsed:   11.1s finished\n",
      "[Parallel(n_jobs=1)]: Using backend SequentialBackend with 1 concurrent workers.\n"
     ]
    },
    {
     "name": "stdout",
     "output_type": "stream",
     "text": [
      "convergence after 89 epochs took 20 seconds\n"
     ]
    },
    {
     "name": "stderr",
     "output_type": "stream",
     "text": [
      "[Parallel(n_jobs=1)]: Done   1 out of   1 | elapsed:   19.5s remaining:    0.0s\n",
      "[Parallel(n_jobs=1)]: Done   1 out of   1 | elapsed:   19.5s finished\n",
      "[Parallel(n_jobs=1)]: Using backend SequentialBackend with 1 concurrent workers.\n"
     ]
    },
    {
     "name": "stdout",
     "output_type": "stream",
     "text": [
      "max_iter reached after 21 seconds\n"
     ]
    },
    {
     "name": "stderr",
     "output_type": "stream",
     "text": [
      "C:\\Users\\Dominic\\AppData\\Local\\Packages\\PythonSoftwareFoundation.Python.3.9_qbz5n2kfra8p0\\LocalCache\\local-packages\\Python39\\site-packages\\sklearn\\linear_model\\_sag.py:350: ConvergenceWarning: The max_iter was reached which means the coef_ did not converge\n",
      "  warnings.warn(\n",
      "[Parallel(n_jobs=1)]: Done   1 out of   1 | elapsed:   20.0s remaining:    0.0s\n",
      "[Parallel(n_jobs=1)]: Done   1 out of   1 | elapsed:   20.0s finished\n",
      "[Parallel(n_jobs=1)]: Using backend SequentialBackend with 1 concurrent workers.\n"
     ]
    },
    {
     "name": "stdout",
     "output_type": "stream",
     "text": [
      "convergence after 66 epochs took 14 seconds\n"
     ]
    },
    {
     "name": "stderr",
     "output_type": "stream",
     "text": [
      "[Parallel(n_jobs=1)]: Done   1 out of   1 | elapsed:   13.8s remaining:    0.0s\n",
      "[Parallel(n_jobs=1)]: Done   1 out of   1 | elapsed:   13.8s finished\n"
     ]
    }
   ],
   "source": [
    "from sklearn.metrics import accuracy_score\n",
    "from sklearn.datasets import make_classification\n",
    "from sklearn.model_selection import KFold\n",
    "\n",
    "# get prediction\n",
    "y_pred = model.predict(X_test)\n",
    "\n",
    "# Calculate the accuracy of the model\n",
    "test_accuracy = accuracy_score(y_test, y_pred)\n",
    "train_accuracy = accuracy_score(y_train, model.predict(X_train))\n",
    "\n",
    "# Train and test model with K-fold cross-validation\n",
    "kf = KFold(n_splits=5, shuffle=True, random_state=42)\n",
    "train_acc = []\n",
    "test_acc = []\n",
    "for train_index, test_index in kf.split(X_train):\n",
    "    X_train_fold, X_test_fold = X_train.iloc[train_index], X_train.iloc[test_index]\n",
    "    y_train_fold, y_test_fold = y_train.iloc[train_index], y_train.iloc[test_index]\n",
    "    model.fit(X_train_fold, y_train_fold.values.ravel())\n",
    "    train_acc.append(accuracy_score(y_train_fold, model.predict(X_train_fold)))\n",
    "    test_acc.append(accuracy_score(y_test_fold, model.predict(X_test_fold)))\n",
    "\n"
   ]
  },
  {
   "cell_type": "code",
   "execution_count": 40,
   "id": "d685143e",
   "metadata": {},
   "outputs": [],
   "source": [
    "# define a show metric function\n",
    "def show_metrics(y_tr, y_te, yhat_tr, yhat_te, named):\n",
    "    # accuracy scores for training and test sets\n",
    "    acc_train = accuracy_score(y_tr, yhat_tr)\n",
    "    acc_test = accuracy_score(y_te, yhat_te)\n",
    "\n",
    "    print(f'training set accuracy (n={y_tr.shape[0]}): {acc_train:4.3f}')\n",
    "    print(f'test set accuracy (n={y_te.shape[0]}): {acc_test:4.3f}')\n",
    "    print()\n",
    "    print('classificiation report on test set performance')\n",
    "    print(classification_report(y_te, yhat_te, digits = 5))\n",
    "    print()\n",
    "\n",
    "    with sns.axes_style('white'):\n",
    "        # confusion matrix\n",
    "        ConfusionMatrixDisplay.from_predictions(y_te, yhat_te)\n",
    "        plt.show()\n",
    "        \n",
    "        # roc-auc\n",
    "        fpr, tpr, thresholds = roc_curve(y_te, yhat_te) \n",
    "        roc_auc = auc(fpr, tpr)\n",
    "        roc_display = RocCurveDisplay(fpr=fpr, tpr=tpr, roc_auc=roc_auc,\n",
    "                                   estimator_name=named)\n",
    "        roc_display.plot()\n",
    "        plt.title('ROC Curve')\n",
    "        plt.show()\n",
    "        \n",
    "        # precision-recall auc\n",
    "        precision, recall, thresholds = precision_recall_curve(y_te, yhat_te)\n",
    "        pr_auc = auc(recall, precision)\n",
    "        pr_display = PrecisionRecallDisplay(precision=precision, recall=recall,\n",
    "                                             average_precision=pr_auc,\n",
    "                                             estimator_name=named)\n",
    "        pr_display.plot()\n",
    "        plt.title('Precision-Recall Curve')\n",
    "        plt.show()\n",
    "        \n",
    "        # balanced accuracy\n",
    "        tn, fp, fn, tp = confusion_matrix(y_te, yhat_te).ravel()\n",
    "        balanced_accuracy = (tp/(tp+fn) + tn/(tn+fp))/2\n",
    "        print(f'Balanced accuracy: {balanced_accuracy:.3f}')\n",
    "        \n",
    "        # specificity and negative predictive value\n",
    "        specificity = tn / (tn + fp)\n",
    "        npv = tn / (tn + fn)\n",
    "        print(f'Specificity: {specificity:.3f}')\n",
    "        print(f'Negative predictive value: {npv:.3f}')\n",
    "        \n",
    "        # false positive and false negative rates\n",
    "        fpr = fp / (fp + tn)\n",
    "        fnr = fn / (fn + tp)\n",
    "        print(f'False positive rate: {fpr:.3f}')\n",
    "        print(f'False negative rate: {fnr:.3f}')\n"
   ]
  },
  {
   "cell_type": "code",
   "execution_count": 41,
   "id": "ff03285b",
   "metadata": {},
   "outputs": [
    {
     "data": {
      "image/png": "[encoded data removed]",
      "text/plain": [
       "<Figure size 432x288 with 1 Axes>"
      ]
     },
     "metadata": {
      "needs_background": "light"
     },
     "output_type": "display_data"
    },
    {
     "name": "stdout",
     "output_type": "stream",
     "text": [
      "Training accuracy: 0.5664391974887403\n",
      "Testing accuracy: 0.5550278414674091\n"
     ]
    }
   ],
   "source": [
    "# Plot the training and testing accuracy history\n",
    "plt.plot(train_acc, label='Training Accuracy')\n",
    "plt.plot(test_acc, label='Testing Accuracy')\n",
    "plt.title('Training and Testing Accuracy of Logistic Regression Model with Hyperparameter Tuning')\n",
    "plt.xlabel('Fold')\n",
    "plt.ylabel('Accuracy')\n",
    "plt.legend()\n",
    "plt.show()\n",
    "\n",
    "print(\"Training accuracy:\", train_accuracy)\n",
    "print(\"Testing accuracy:\", test_accuracy)"
   ]
  },
  {
   "cell_type": "code",
   "execution_count": 42,
   "id": "a41a9b7b",
   "metadata": {},
   "outputs": [
    {
     "name": "stdout",
     "output_type": "stream",
     "text": [
      "training set accuracy (n=73270): 0.565\n",
      "test set accuracy (n=18318): 0.550\n",
      "\n",
      "classificiation report on test set performance\n",
      "              precision    recall  f1-score   support\n",
      "\n",
      "           0    0.54464   0.55473   0.54964      9062\n",
      "           1    0.55601   0.54592   0.55092      9256\n",
      "\n",
      "    accuracy                        0.55028     18318\n",
      "   macro avg    0.55032   0.55033   0.55028     18318\n",
      "weighted avg    0.55038   0.55028   0.55028     18318\n",
      "\n",
      "\n"
     ]
    },
    {
     "data": {
      "image/png": "[encoded data removed]",
      "text/plain": [
       "<Figure size 432x288 with 2 Axes>"
      ]
     },
     "metadata": {},
     "output_type": "display_data"
    },
    {
     "data": {
      "image/png": "[encoded data removed]",
      "text/plain": [
       "<Figure size 432x288 with 1 Axes>"
      ]
     },
     "metadata": {},
     "output_type": "display_data"
    },
    {
     "data": {
      "image/png": "[encoded data removed]",
      "text/plain": [
       "<Figure size 432x288 with 1 Axes>"
      ]
     },
     "metadata": {},
     "output_type": "display_data"
    },
    {
     "name": "stdout",
     "output_type": "stream",
     "text": [
      "Balanced accuracy: 0.550\n",
      "Specificity: 0.555\n",
      "Negative predictive value: 0.545\n",
      "False positive rate: 0.445\n",
      "False negative rate: 0.454\n"
     ]
    }
   ],
   "source": [
    "# get both predicted train and test labels\n",
    "yhat_te_prob = model.predict(X_test)\n",
    "yhat_te = (yhat_te_prob > 0.5).astype(int)\n",
    "yhat_te\n",
    "\n",
    "yhat_tr_prob = model.predict(X_train)\n",
    "yhat_tr = (yhat_tr_prob > 0.5).astype(int)\n",
    "yhat_tr\n",
    "\n",
    "#show our metrics\n",
    "show_metrics(y_train, y_test, yhat_tr, yhat_te, 'unscaled')"
   ]
  }
 ],
 "metadata": {
  "kernelspec": {
   "display_name": "Python 3 (ipykernel)",
   "language": "python",
   "name": "python3"
  },
  "language_info": {
   "codemirror_mode": {
    "name": "ipython",
    "version": 3
   },
   "file_extension": ".py",
   "mimetype": "text/x-python",
   "name": "python",
   "nbconvert_exporter": "python",
   "pygments_lexer": "ipython3",
   "version": "3.9.13"
  }
 },
 "nbformat": 4,
 "nbformat_minor": 5
}
